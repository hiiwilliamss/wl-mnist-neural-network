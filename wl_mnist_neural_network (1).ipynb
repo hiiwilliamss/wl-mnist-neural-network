{
 "cells": [
  {
   "cell_type": "markdown",
   "id": "834d9f86-7f49-41bb-9866-ce4fb4cd505a",
   "metadata": {
    "editable": true,
    "slideshow": {
     "slide_type": ""
    },
    "tags": []
   },
   "source": [
    "## MNIST Neural Network Project"
   ]
  },
  {
   "cell_type": "markdown",
   "id": "73862b3b-c873-4505-a2ab-1199cd8f472a",
   "metadata": {
    "editable": true,
    "slideshow": {
     "slide_type": ""
    },
    "tags": []
   },
   "source": [
    "## 03/06/2025"
   ]
  },
  {
   "cell_type": "markdown",
   "id": "55d6cca4-8b79-468c-adb1-bc8ad447e563",
   "metadata": {
    "editable": true,
    "slideshow": {
     "slide_type": ""
    },
    "tags": []
   },
   "source": [
    "## William Lorenzo"
   ]
  },
  {
   "cell_type": "markdown",
   "id": "b59bdfdb-1883-4ce7-ab29-c8f96563e0f2",
   "metadata": {
    "editable": true,
    "slideshow": {
     "slide_type": ""
    },
    "tags": []
   },
   "source": [
    "#### Unloading Libraries:"
   ]
  },
  {
   "cell_type": "code",
   "execution_count": 1,
   "id": "baccd99a-d1b4-4505-8846-c50c81bd87b2",
   "metadata": {
    "editable": true,
    "slideshow": {
     "slide_type": ""
    },
    "tags": []
   },
   "outputs": [],
   "source": [
    "import tensorflow as tf\n",
    "from tensorflow.keras import layers, models\n",
    "import matplotlib.pyplot as plt\n",
    "import numpy as np"
   ]
  },
  {
   "cell_type": "markdown",
   "id": "87ed7298-da96-46a1-ab73-c645243427aa",
   "metadata": {
    "editable": true,
    "slideshow": {
     "slide_type": ""
    },
    "tags": []
   },
   "source": [
    "#### Preparing `MNIST` Data:"
   ]
  },
  {
   "cell_type": "markdown",
   "id": "2365fbb8-3e73-4956-8b65-559ae707be35",
   "metadata": {
    "editable": true,
    "slideshow": {
     "slide_type": ""
    },
    "tags": []
   },
   "source": [
    "The MNIST dataset contains 70,000 grayscale images of handwritten digits (0-9).\n",
    "    \n",
    "    - Split into 60,000 images for training and 10,000 images for testing\n",
    "    \n",
    "    - Normalize images to a range of [0, 1] by dividing each pixel by 255"
   ]
  },
  {
   "cell_type": "code",
   "execution_count": 2,
   "id": "b3bb0380-ce47-4ea8-a23d-a5f030f18d3a",
   "metadata": {
    "editable": true,
    "slideshow": {
     "slide_type": ""
    },
    "tags": []
   },
   "outputs": [],
   "source": [
    "(train_images, train_labels), (test_images, test_labels) = tf.keras.datasets.mnist.load_data()\n",
    "train_images = train_images.astype('float32') / 255\n",
    "test_images = test_images.astype('float32') / 255"
   ]
  },
  {
   "cell_type": "markdown",
   "id": "d31ab5ac-2d0a-454d-a63f-fa35e142a507",
   "metadata": {
    "editable": true,
    "slideshow": {
     "slide_type": ""
    },
    "tags": []
   },
   "source": [
    "#### Checking Size & Shape:"
   ]
  },
  {
   "cell_type": "markdown",
   "id": "87837ca8-cefb-4962-91b8-7aa1d9466107",
   "metadata": {
    "editable": true,
    "slideshow": {
     "slide_type": ""
    },
    "tags": []
   },
   "source": [
    "Examining how many images are in the training and testing datasets."
   ]
  },
  {
   "cell_type": "code",
   "execution_count": 3,
   "id": "c2627b39-2caa-4f35-b945-73f509419f0b",
   "metadata": {
    "editable": true,
    "slideshow": {
     "slide_type": ""
    },
    "tags": []
   },
   "outputs": [
    {
     "name": "stdout",
     "output_type": "stream",
     "text": [
      "Number of images in the training dataset: 60000\n",
      "Number of images in the testing dataset: 10000\n",
      "Shape of the images in the training dataset: (28, 28)\n"
     ]
    }
   ],
   "source": [
    "print(f\"Number of images in the training dataset: {train_images.shape[0]}\")\n",
    "print(f\"Number of images in the testing dataset: {test_images.shape[0]}\")\n",
    "print(f\"Shape of the images in the training dataset: {train_images[0].shape}\")"
   ]
  },
  {
   "cell_type": "markdown",
   "id": "78f5a98d-846e-4c83-afc7-9fa9bae9ae17",
   "metadata": {
    "editable": true,
    "slideshow": {
     "slide_type": ""
    },
    "tags": []
   },
   "source": [
    "#### Visualizing the First 10 Images:"
   ]
  },
  {
   "cell_type": "code",
   "execution_count": 4,
   "id": "f63d90bf-a59c-4051-bdae-c036fe0fa940",
   "metadata": {
    "editable": true,
    "slideshow": {
     "slide_type": ""
    },
    "tags": []
   },
   "outputs": [
    {
     "data": {
      "image/png": "[encoded data removed]",
      "text/plain": [
       "<Figure size 1000x1000 with 10 Axes>"
      ]
     },
     "metadata": {},
     "output_type": "display_data"
    }
   ],
   "source": [
    "fig, axes = plt.subplots(1, 10, figsize = (10, 10))\n",
    "for i in range(10):\n",
    "    axes[i].imshow(train_images[i].reshape(28, 28), cmap = \"gray\")\n",
    "    axes[i].set_title(train_labels[i])\n",
    "    axes[i].axis('off')\n",
    "plt.show()"
   ]
  },
  {
   "cell_type": "markdown",
   "id": "0e2815a0-fb70-4271-9c2e-b41887d27b68",
   "metadata": {
    "editable": true,
    "slideshow": {
     "slide_type": ""
    },
    "tags": []
   },
   "source": [
    "#### Building Neural Network:"
   ]
  },
  {
   "cell_type": "markdown",
   "id": "ef503509-4e78-4211-a857-2f06194ddb45",
   "metadata": {
    "editable": true,
    "slideshow": {
     "slide_type": ""
    },
    "tags": []
   },
   "source": [
    "- Flatten Layer: Converts the 28x28 image into 1D array of 784 outputs\n",
    "- Hidden Layer 1: 128 neurons with ReLU activation\n",
    "- Hidden Layer 2: 64 neurons with ReLU activation\n",
    "- Output Layer: 10 neurons with softmax activation to predict a digit (0-9)"
   ]
  },
  {
   "cell_type": "code",
   "execution_count": 5,
   "id": "4c0d77e6-e66f-4d05-b783-c88a6b05102f",
   "metadata": {
    "editable": true,
    "slideshow": {
     "slide_type": ""
    },
    "tags": []
   },
   "outputs": [],
   "source": [
    "model = tf.keras.Sequential([\n",
    "    tf.keras.layers.Input(shape=(28, 28, 1)),\n",
    "    tf.keras.layers.Flatten(),\n",
    "    tf.keras.layers.Dense(128, activation='relu'),\n",
    "    tf.keras.layers.Dense(64, activation='relu'),\n",
    "    tf.keras.layers.Dense(10, activation='softmax')\n",
    "])"
   ]
  },
  {
   "cell_type": "markdown",
   "id": "11e30492-0cc8-4a5d-b782-9fd164893ac0",
   "metadata": {
    "editable": true,
    "slideshow": {
     "slide_type": ""
    },
    "tags": []
   },
   "source": [
    "#### Compile the Model:"
   ]
  },
  {
   "cell_type": "markdown",
   "id": "023ad6ed-89ea-4ca0-b124-90ece76f75e3",
   "metadata": {
    "editable": true,
    "slideshow": {
     "slide_type": ""
    },
    "tags": []
   },
   "source": [
    "- Before training the model, the model must be compiled\n",
    "- Optimizer: Adam (efficient optimizer for neural networks)\n",
    "- Loss Function: Sparse Categorical Crossentropy (hence, labels are integers)\n",
    "- Metrics: Accuracy (measuring how well the model performs)"
   ]
  },
  {
   "cell_type": "code",
   "execution_count": 6,
   "id": "91b46a1f-1c00-47d8-8f04-7282dd06719f",
   "metadata": {
    "editable": true,
    "slideshow": {
     "slide_type": ""
    },
    "tags": []
   },
   "outputs": [],
   "source": [
    "model.compile(optimizer = 'adam',\n",
    "             loss = 'sparse_categorical_crossentropy',\n",
    "             metrics = ['accuracy'])"
   ]
  },
  {
   "cell_type": "markdown",
   "id": "d61ead16-4a1c-429e-ba64-c86b9247a14c",
   "metadata": {
    "editable": true,
    "slideshow": {
     "slide_type": ""
    },
    "tags": []
   },
   "source": [
    "#### Training the Model:"
   ]
  },
  {
   "cell_type": "markdown",
   "id": "a273d23b-a0a6-47b1-9c5a-61fc2792785f",
   "metadata": {
    "editable": true,
    "slideshow": {
     "slide_type": ""
    },
    "tags": []
   },
   "source": [
    "- Training it for 5 epochs, meaning the model will go through the entire training data 5 times\n",
    "- Output will show the accuracy and loss after each epoch"
   ]
  },
  {
   "cell_type": "code",
   "execution_count": 7,
   "id": "bca8f4e0-9b3a-4345-9ec4-0482d6969cd5",
   "metadata": {
    "editable": true,
    "slideshow": {
     "slide_type": ""
    },
    "tags": []
   },
   "outputs": [
    {
     "name": "stdout",
     "output_type": "stream",
     "text": [
      "Epoch 1/5\n",
      "\u001b[1m1875/1875\u001b[0m \u001b[32m━━━━━━━━━━━━━━━━━━━━\u001b[0m\u001b[37m\u001b[0m \u001b[1m3s\u001b[0m 1ms/step - accuracy: 0.8816 - loss: 0.4097\n",
      "Epoch 2/5\n",
      "\u001b[1m1875/1875\u001b[0m \u001b[32m━━━━━━━━━━━━━━━━━━━━\u001b[0m\u001b[37m\u001b[0m \u001b[1m3s\u001b[0m 1ms/step - accuracy: 0.9681 - loss: 0.1052\n",
      "Epoch 3/5\n",
      "\u001b[1m1875/1875\u001b[0m \u001b[32m━━━━━━━━━━━━━━━━━━━━\u001b[0m\u001b[37m\u001b[0m \u001b[1m3s\u001b[0m 1ms/step - accuracy: 0.9787 - loss: 0.0690\n",
      "Epoch 4/5\n",
      "\u001b[1m1875/1875\u001b[0m \u001b[32m━━━━━━━━━━━━━━━━━━━━\u001b[0m\u001b[37m\u001b[0m \u001b[1m3s\u001b[0m 1ms/step - accuracy: 0.9844 - loss: 0.0501\n",
      "Epoch 5/5\n",
      "\u001b[1m1875/1875\u001b[0m \u001b[32m━━━━━━━━━━━━━━━━━━━━\u001b[0m\u001b[37m\u001b[0m \u001b[1m3s\u001b[0m 1ms/step - accuracy: 0.9876 - loss: 0.0403\n"
     ]
    }
   ],
   "source": [
    "history = model.fit(\n",
    "    train_images,\n",
    "    train_labels,\n",
    "    epochs=5\n",
    ")"
   ]
  },
  {
   "cell_type": "markdown",
   "id": "2083cb7a-3dc1-4108-83c4-e9f0e78746c5",
   "metadata": {
    "editable": true,
    "slideshow": {
     "slide_type": ""
    },
    "tags": []
   },
   "source": [
    "#### Predicting on Single Image:"
   ]
  },
  {
   "cell_type": "markdown",
   "id": "036eb491-1938-4170-8a39-a86e2cff04bc",
   "metadata": {
    "editable": true,
    "slideshow": {
     "slide_type": ""
    },
    "tags": []
   },
   "source": [
    "- Testing the model by passing in a single image from the test set\n",
    "- Utilizing the first image and integrating the model to predict what number it sees\n",
    "- Visualizing image and class probabilities"
   ]
  },
  {
   "cell_type": "code",
   "execution_count": 8,
   "id": "d3bcfa07-108f-44de-a702-bb8447a74395",
   "metadata": {
    "editable": true,
    "slideshow": {
     "slide_type": ""
    },
    "tags": []
   },
   "outputs": [
    {
     "name": "stdout",
     "output_type": "stream",
     "text": [
      "\u001b[1m1/1\u001b[0m \u001b[32m━━━━━━━━━━━━━━━━━━━━\u001b[0m\u001b[37m\u001b[0m \u001b[1m0s\u001b[0m 47ms/step\n"
     ]
    }
   ],
   "source": [
    "image, label = test_images[0], test_labels[0]\n",
    "probabilities = model.predict(image.reshape(1, 28, 28, 1))"
   ]
  },
  {
   "cell_type": "markdown",
   "id": "e6318862-5329-4f1e-9e7d-4c328ec71cf7",
   "metadata": {
    "editable": true,
    "slideshow": {
     "slide_type": ""
    },
    "tags": []
   },
   "source": [
    "#### Visualizing the Prediction:"
   ]
  },
  {
   "cell_type": "code",
   "execution_count": 9,
   "id": "bb11caa8-3b5a-45a9-a4c5-18be3d8bb2a1",
   "metadata": {
    "editable": true,
    "slideshow": {
     "slide_type": ""
    },
    "tags": []
   },
   "outputs": [
    {
     "data": {
      "image/png": "[encoded data removed]",
      "text/plain": [
       "<Figure size 600x900 with 2 Axes>"
      ]
     },
     "metadata": {},
     "output_type": "display_data"
    }
   ],
   "source": [
    "def view_classify(image, probabilities):\n",
    "    fig, (ax1, ax2) = plt.subplots(figsize=(6,9), ncols=2)\n",
    "    ax1.imshow(image)\n",
    "    ax1.axis('off')\n",
    "    ax2.barh(np.arange(10), probabilities)\n",
    "    ax2.set_aspect(0.1)\n",
    "    ax2.set_yticks(np.arange(10))\n",
    "    ax2.set_yticklabels(np.arange(10))\n",
    "    ax2.set_title('Class Probability')\n",
    "    ax2.set_xlim(0, 1.1)\n",
    "    plt.tight_layout()\n",
    "\n",
    "view_classify(image, probabilities[0])"
   ]
  },
  {
   "cell_type": "markdown",
   "id": "9632c947-c0f4-4461-8153-edd04a8d92b3",
   "metadata": {
    "editable": true,
    "slideshow": {
     "slide_type": ""
    },
    "tags": []
   },
   "source": [
    "#### Evaluating the Model on the Test Data:"
   ]
  },
  {
   "cell_type": "markdown",
   "id": "118a2fb0-3da8-4ebd-b2ab-049b8e62ca9d",
   "metadata": {
    "editable": true,
    "slideshow": {
     "slide_type": ""
    },
    "tags": []
   },
   "source": [
    "- Testing the model on the full test dataset (10,000 images)\n",
    "- Outputs the loss and accuracy\n",
    "- The higher the accuracy, the better the model performed"
   ]
  },
  {
   "cell_type": "code",
   "execution_count": 10,
   "id": "842f1c2e-a683-454e-bac6-249312eb2f36",
   "metadata": {
    "editable": true,
    "slideshow": {
     "slide_type": ""
    },
    "tags": []
   },
   "outputs": [
    {
     "name": "stdout",
     "output_type": "stream",
     "text": [
      "\u001b[1m313/313\u001b[0m \u001b[32m━━━━━━━━━━━━━━━━━━━━\u001b[0m\u001b[37m\u001b[0m \u001b[1m0s\u001b[0m 963us/step - accuracy: 0.9762 - loss: 0.0803\n",
      "Accuracy of the neural network on the 10000 test images: 97.91%\n"
     ]
    }
   ],
   "source": [
    "test_loss, test_accuracy = model.evaluate(test_images, test_labels)\n",
    "print(f'Accuracy of the neural network on the {test_images.shape[0]} test images: {test_accuracy * 100:.2f}%')"
   ]
  }
 ],
 "metadata": {
  "kernelspec": {
   "display_name": "Python 3 (ipykernel)",
   "language": "python",
   "name": "python3"
  },
  "language_info": {
   "codemirror_mode": {
    "name": "ipython",
    "version": 3
   },
   "file_extension": ".py",
   "mimetype": "text/x-python",
   "name": "python",
   "nbconvert_exporter": "python",
   "pygments_lexer": "ipython3",
   "version": "3.12.3"
  }
 },
 "nbformat": 4,
 "nbformat_minor": 5
}
